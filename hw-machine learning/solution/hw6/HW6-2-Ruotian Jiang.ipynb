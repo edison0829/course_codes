{
 "cells": [
  {
   "cell_type": "markdown",
   "metadata": {},
   "source": [
    "# 2. (Deep) CNNs for Image Colorization\n",
    "Ruotian Jiang 8389636738"
   ]
  },
  {
   "cell_type": "markdown",
   "metadata": {},
   "source": [
    "# a & b \n",
    "The first 1024 entries contain the red channel values, the next 1024 the green, and the final 1024 the blue. The image is stored in row-major order, so that the first 32 entries of the array are the red channel values of the first row of the image."
   ]
  },
  {
   "cell_type": "code",
   "execution_count": 22,
   "metadata": {},
   "outputs": [],
   "source": [
    "import numpy as np\n",
    "def unpickle(file):\n",
    "    import cPickle\n",
    "    with open(file, 'rb') as fo:\n",
    "        dict = cPickle.load(fo)\n",
    "    return dict\n",
    "# use extract to get bird class\n",
    "def extract(dict):\n",
    "    index = [i for i,x in enumerate(dict['labels']) if x == 2]\n",
    "    return dict['data'][index]\n",
    "# change shape to that Each pixel is an RGB vector with three elements.\n",
    "def reshape(array):\n",
    "    result = []\n",
    "    for i in array:\n",
    "        a = np.reshape(i, (-1, 1024))\n",
    "        result.append(a.T)\n",
    "    return np.array(result)\n",
    "data1 = reshape(extract(unpickle('data_batch_1')))\n",
    "data2 = reshape(extract(unpickle('data_batch_2')))\n",
    "data3 = reshape(extract(unpickle('data_batch_3')))\n",
    "data4 = reshape(extract(unpickle('data_batch_4')))\n",
    "data5 = reshape(extract(unpickle('data_batch_5')))\n",
    "data6 = reshape(extract(unpickle('test_batch')))"
   ]
  },
  {
   "cell_type": "code",
   "execution_count": 28,
   "metadata": {},
   "outputs": [
    {
     "name": "stdout",
     "output_type": "stream",
     "text": [
      "test size\n",
      "(1000, 1024, 3)\n"
     ]
    }
   ],
   "source": [
    "print 'test size'\n",
    "print data6.shape"
   ]
  },
  {
   "cell_type": "markdown",
   "metadata": {},
   "source": [
    "# c"
   ]
  },
  {
   "cell_type": "code",
   "execution_count": null,
   "metadata": {},
   "outputs": [],
   "source": [
    "# here I Choose 50% of the pixels randomly."
   ]
  },
  {
   "cell_type": "markdown",
   "metadata": {},
   "source": [
    "# d"
   ]
  },
  {
   "cell_type": "code",
   "execution_count": 26,
   "metadata": {},
   "outputs": [],
   "source": [
    "from sklearn.cluster import KMeans\n",
    "X = np.concatenate((data1, data2, data3, data4, data5, data6))\n",
    "#  transform to P vectors\n",
    "X = X.reshape(6144000,3)\n",
    "kmeans = KMeans(n_clusters=4).fit(X)"
   ]
  },
  {
   "cell_type": "code",
   "execution_count": 57,
   "metadata": {},
   "outputs": [
    {
     "name": "stdout",
     "output_type": "stream",
     "text": [
      "{0: array([156.31445571, 155.64326769, 135.724557  ]), 1: array([49.07644711, 50.05637534, 38.59833484]), 2: array([206.62474607, 211.87845177, 211.53547018]), 3: array([109.05965754, 108.70112922,  82.76727714])}\n"
     ]
    }
   ],
   "source": [
    "trans = dict({0: kmeans.cluster_centers_[0],1: kmeans.cluster_centers_[1],2: kmeans.cluster_centers_[2],3: kmeans.cluster_centers_[3]})\n",
    "print trans"
   ]
  },
  {
   "cell_type": "code",
   "execution_count": 133,
   "metadata": {},
   "outputs": [],
   "source": [
    "# y = np.array([trans[i] for i in kmeans.labels_])\n",
    "\n",
    "y = np.array(kmeans.labels_)\n",
    "\n",
    "\n"
   ]
  },
  {
   "cell_type": "code",
   "execution_count": 134,
   "metadata": {},
   "outputs": [
    {
     "name": "stdout",
     "output_type": "stream",
     "text": [
      "(1000, 32, 32, 1)\n"
     ]
    }
   ],
   "source": [
    "y = y.reshape(6000,32,32,1)\n",
    "y_train = y[:5000]\n",
    "y_test = y[:1000]\n",
    "print y_test.shape\n",
    "\n"
   ]
  },
  {
   "cell_type": "markdown",
   "metadata": {},
   "source": [
    "# e"
   ]
  },
  {
   "cell_type": "code",
   "execution_count": 42,
   "metadata": {},
   "outputs": [
    {
     "name": "stdout",
     "output_type": "stream",
     "text": [
      "[[164 206  84]\n",
      " [105 140  61]\n",
      " [118 148 101]\n",
      " ...\n",
      " [ 94 134  29]\n",
      " [ 91 133  26]\n",
      " [122 170  44]]\n",
      "[[[164 206  84]\n",
      "  [105 140  61]\n",
      "  [118 148 101]\n",
      "  ...\n",
      "  [109 147  73]\n",
      "  [108 147  69]\n",
      "  [ 91 129  57]]\n",
      "\n",
      " [[167 213  84]\n",
      "  [116 160  49]\n",
      "  [ 72 109  43]\n",
      "  ...\n",
      "  [105 142  79]\n",
      "  [105 142  72]\n",
      "  [ 89 127  57]]\n",
      "\n",
      " [[140 191  65]\n",
      "  [142 193  66]\n",
      "  [119 163  79]\n",
      "  ...\n",
      "  [104 139  84]\n",
      "  [ 84 120  58]\n",
      "  [ 78 115  49]]\n",
      "\n",
      " ...\n",
      "\n",
      " [[139 148  81]\n",
      "  [142 155  74]\n",
      "  [135 156  72]\n",
      "  ...\n",
      "  [ 89 134  28]\n",
      "  [ 97 148  24]\n",
      "  [126 176  49]]\n",
      "\n",
      " [[163 157  85]\n",
      "  [153 164  82]\n",
      "  [146 164  90]\n",
      "  ...\n",
      "  [ 85 130  19]\n",
      "  [ 98 148  27]\n",
      "  [127 178  48]]\n",
      "\n",
      " [[183 153 102]\n",
      "  [176 182 116]\n",
      "  [154 154 100]\n",
      "  ...\n",
      "  [ 94 134  29]\n",
      "  [ 91 133  26]\n",
      "  [122 170  44]]]\n",
      "(5000, 32, 32, 1)\n"
     ]
    }
   ],
   "source": [
    "from skimage.color import rgb2gray\n",
    "X = np.concatenate((data1, data2, data3, data4, data5, data6))\n",
    "print X[0]\n",
    "X = X.reshape(6000,32,32,3)\n",
    "print X[0]\n",
    "X = rgb2gray(X)\n",
    "X = X.reshape(6000,32,32,1)\n",
    "X_train = X[:5000]\n",
    "X_test = X[:1000]\n",
    "print X_train.shape"
   ]
  },
  {
   "cell_type": "markdown",
   "metadata": {},
   "source": [
    "# f\n",
    "here I used test data for validation\n",
    "\n"
   ]
  },
  {
   "cell_type": "code",
   "execution_count": 148,
   "metadata": {},
   "outputs": [
    {
     "name": "stdout",
     "output_type": "stream",
     "text": [
      "Complete reading input data. Will Now print a snippet of it\n",
      "Number of files in Training-set:\t\t5000\n",
      "Number of files in Validation(test)-set:\t1000\n",
      "Training Epoch 1 --- Training Accuracy: 100.0%, Validation(test) Accuracy: 100.0%,  Validation Loss: 0.000\n",
      "Training Epoch 2 --- Training Accuracy: 100.0%, Validation(test) Accuracy: 100.0%,  Validation Loss: 0.000\n",
      "Training Epoch 3 --- Training Accuracy: 100.0%, Validation(test) Accuracy: 100.0%,  Validation Loss: 0.000\n",
      "Training Epoch 4 --- Training Accuracy: 100.0%, Validation(test) Accuracy: 100.0%,  Validation Loss: 0.000\n",
      "Training Epoch 5 --- Training Accuracy: 100.0%, Validation(test) Accuracy: 100.0%,  Validation Loss: 0.000\n"
     ]
    }
   ],
   "source": [
    "import tensorflow as tf\n",
    "import time\n",
    "from datetime import timedelta\n",
    "import math\n",
    "import random\n",
    "import numpy as np\n",
    "\n",
    "#Adding Seed so that random initialization is consistent\n",
    "from numpy.random import seed\n",
    "seed(1)\n",
    "from tensorflow import set_random_seed\n",
    "set_random_seed(2)\n",
    "\n",
    "\n",
    "batch_size = 100\n",
    "\n",
    "#Prepare input data\n",
    "num_classes = 4\n",
    "\n",
    "\n",
    "\n",
    "print(\"Complete reading input data. Will Now print a snippet of it\")\n",
    "print(\"Number of files in Training-set:\\t\\t{}\".format(len(X_train)))\n",
    "print(\"Number of files in Validation(test)-set:\\t{}\".format(len(X_test)))\n",
    "\n",
    "\n",
    "\n",
    "session = tf.Session()\n",
    "\n",
    "## labels\n",
    "num_channels = 1\n",
    "x = tf.placeholder(tf.float32, shape=[None, 32,32,1], name='x')\n",
    " \n",
    "y_true = tf.placeholder(tf.float32, shape=[None,1], name='y_true')\n",
    "# y_true = tf.reshape(y_true, [-1,3])\n",
    "y_true_cls = tf.argmax(y_true, dimension=1)\n",
    "\n",
    "\n",
    "##Network graph params\n",
    "filter_size_conv1 = 5 \n",
    "num_filters_conv1 = 16\n",
    "\n",
    "filter_size_conv2 = 5\n",
    "num_filters_conv2 = 16\n",
    "   \n",
    "\n",
    "\n",
    "def create_weights(shape):\n",
    "    return tf.Variable(tf.truncated_normal(shape, stddev=0.05))\n",
    "\n",
    "def create_biases(size):\n",
    "    return tf.Variable(tf.constant(0.05, shape=[size]))\n",
    "\n",
    "\n",
    "\n",
    "def create_convolutional_layer(input,\n",
    "               num_input_channels, \n",
    "               conv_filter_size,        \n",
    "               num_filters):  \n",
    "    \n",
    "    ## We shall define the weights that will be trained using create_weights function.\n",
    "    weights = create_weights(shape=[conv_filter_size, conv_filter_size, num_input_channels, num_filters])\n",
    "    ## We create biases using the create_biases function. These are also trained.\n",
    "    biases = create_biases(num_filters)\n",
    "\n",
    "    ## Creating the convolutional layer\n",
    "    layer = tf.nn.conv2d(input=input,\n",
    "                     filter=weights,\n",
    "                     strides=[1, 1, 1, 1],\n",
    "                     padding='SAME')\n",
    "\n",
    "    layer += biases\n",
    "\n",
    "    ## We shall be using max-pooling.  \n",
    "    layer = tf.nn.max_pool(value=layer,\n",
    "                            ksize=[1, 2, 2, 1],\n",
    "                            strides=[1, 2, 2, 1],\n",
    "                            padding='SAME')\n",
    "    layer = tf.nn.relu(layer)\n",
    "\n",
    "    return layer\n",
    "\n",
    "def create_flatten_layer(layer):\n",
    "    layer_shape = layer.get_shape()\n",
    "    layer = tf.reshape(layer, [-1, 1])\n",
    "    \n",
    "    return layer\n",
    "\n",
    "def create_mlp_layer(input,  \n",
    "             num_inputs,    \n",
    "             num_outputs,\n",
    "             use_relu=True):\n",
    "    \n",
    "    #Let's define trainable weights and biases.\n",
    "    weights = create_weights(shape=[num_inputs, num_outputs])\n",
    "    biases = create_biases(num_outputs)\n",
    " \n",
    "    layer = tf.matmul(input, weights) + biases\n",
    "    if use_relu:\n",
    "        layer = tf.nn.relu(layer)\n",
    " \n",
    "    return layer \n",
    "\n",
    "\n",
    "layer_conv1 = create_convolutional_layer(input=x,\n",
    "               num_input_channels=num_channels,\n",
    "               conv_filter_size=filter_size_conv1,\n",
    "               num_filters=num_filters_conv1)\n",
    "layer_conv2 = create_convolutional_layer(input=layer_conv1,\n",
    "               num_input_channels=num_filters_conv1,\n",
    "               conv_filter_size=filter_size_conv2,\n",
    "               num_filters=num_filters_conv2)\n",
    "\n",
    "layer_flat = create_flatten_layer(layer_conv2)\n",
    "\n",
    "layer_mlp1 = create_mlp_layer(input=layer_flat,\n",
    "                     num_inputs=1,\n",
    "                     num_outputs=32,\n",
    "                     use_relu=True)\n",
    "\n",
    "layer_mlp2 = create_mlp_layer(input=layer_mlp1,\n",
    "                     num_inputs=32,\n",
    "                     num_outputs=1,\n",
    "                     use_relu=True)\n",
    "\n",
    "y_pred = tf.nn.softmax(layer_mlp2,name='y_pred')\n",
    "y_pred_cls = tf.argmax(y_pred, dimension=1)\n",
    "\n",
    "\n",
    "\n",
    "session.run(tf.global_variables_initializer())\n",
    "cross_entropy = tf.nn.softmax_cross_entropy_with_logits(logits=layer_mlp2,\n",
    "                                                    labels=y_true)\n",
    "cost = tf.reduce_mean(cross_entropy)\n",
    "optimizer = tf.train.AdamOptimizer(learning_rate=1e-4).minimize(cost)\n",
    "correct_prediction = tf.equal(y_pred_cls, y_true_cls)\n",
    "accuracy = tf.reduce_mean(tf.cast(correct_prediction, tf.float32))\n",
    "\n",
    "\n",
    "session.run(tf.global_variables_initializer()) \n",
    "\n",
    "\n",
    "def show_progress(epoch, feed_dict_train, feed_dict_validate, val_loss):\n",
    "    acc = session.run(accuracy, feed_dict=feed_dict_train)\n",
    "    val_acc = session.run(accuracy, feed_dict=feed_dict_validate)\n",
    "    msg = \"Training Epoch {0} --- Training Accuracy: {1:>6.1%}, Validation(test) Accuracy: {2:>6.1%},  Validation Loss: {3:.3f}\"\n",
    "    print(msg.format(epoch + 1, acc, val_acc, val_loss))\n",
    "\n",
    "\n",
    "\n",
    "saver = tf.train.Saver()\n",
    "def train(num_iteration):\n",
    "    \n",
    "    for i in range(num_iteration):\n",
    "        for j in range(50):\n",
    "            x_batch = X_train[batch_size*j:batch_size*(j+1)]\n",
    "            y_true_batch = y_train[batch_size*j:batch_size*(j+1)]\n",
    "            y_true_batch = y_true_batch.reshape(-1,1)\n",
    "\n",
    "            x_valid_batch = X_test[batch_size*(j%5):batch_size*((j%5)+1)]\n",
    "            y_valid_batch = y_test[batch_size*(j%5):batch_size*((j%5)+1)]\n",
    "            y_valid_batch = y_valid_batch.reshape(-1,1)\n",
    "\n",
    "            feed_dict_tr = {x: x_batch,\n",
    "                               y_true: y_true_batch}\n",
    "            feed_dict_val = {x: x_valid_batch,\n",
    "                                  y_true: y_valid_batch}\n",
    "            session.run(optimizer, feed_dict=feed_dict_tr)\n",
    "\n",
    "            \n",
    "        val_loss = session.run(cost, feed_dict=feed_dict_val)\n",
    "        epoch = i    \n",
    "        show_progress(epoch, feed_dict_tr, feed_dict_val, val_loss)\n",
    "#             saver.save(session, 'colorization-model') \n",
    "\n",
    "\n",
    "train(num_iteration=5)\n"
   ]
  },
  {
   "cell_type": "code",
   "execution_count": 141,
   "metadata": {},
   "outputs": [],
   "source": [
    "import matplotlib.pyplot as plt\n",
    "\n",
    "pic = np.array([trans[i] for i in kmeans.labels_])\n",
    "\n"
   ]
  },
  {
   "cell_type": "code",
   "execution_count": null,
   "metadata": {},
   "outputs": [],
   "source": [
    "pic= pic.reshape(6000,32,32,3)\n",
    "plt.imshow(pic[5000])\n",
    "print pic[5000]"
   ]
  },
  {
   "cell_type": "code",
   "execution_count": null,
   "metadata": {},
   "outputs": [],
   "source": []
  },
  {
   "cell_type": "code",
   "execution_count": null,
   "metadata": {},
   "outputs": [],
   "source": [
    "\n"
   ]
  },
  {
   "cell_type": "code",
   "execution_count": null,
   "metadata": {},
   "outputs": [],
   "source": []
  }
 ],
 "metadata": {
  "kernelspec": {
   "display_name": "Python 2",
   "language": "python",
   "name": "python2"
  },
  "language_info": {
   "codemirror_mode": {
    "name": "ipython",
    "version": 2
   },
   "file_extension": ".py",
   "mimetype": "text/x-python",
   "name": "python",
   "nbconvert_exporter": "python",
   "pygments_lexer": "ipython2",
   "version": "2.7.14"
  }
 },
 "nbformat": 4,
 "nbformat_minor": 2
}
