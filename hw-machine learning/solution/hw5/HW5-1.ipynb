{
 "cells": [
  {
   "cell_type": "markdown",
   "metadata": {},
   "source": [
    "# 1. Supervised, Semi-Supervised, and Unsupervised Learning\n",
    "Ruotian Jiang\n",
    "8389636738"
   ]
  },
  {
   "cell_type": "markdown",
   "metadata": {},
   "source": [
    "# a\n",
    "change the file name: .data to .csv"
   ]
  },
  {
   "cell_type": "code",
   "execution_count": 115,
   "metadata": {},
   "outputs": [
    {
     "name": "stdout",
     "output_type": "stream",
     "text": [
      "     Recency (months)  Frequency (times)  Monetary (c.c. blood)  \\\n",
      "676          0.039074          -0.046085              -0.046085   \n",
      "308          0.066101          -0.022829              -0.022829   \n",
      "679          0.039074          -0.046085              -0.046085   \n",
      "674          0.066101           0.116706               0.116706   \n",
      "485          0.160696          -0.022829              -0.022829   \n",
      "348         -0.001466          -0.092596              -0.092596   \n",
      "209         -0.001466          -0.046085              -0.046085   \n",
      "336         -0.001466          -0.046085              -0.046085   \n",
      "538         -0.123088           0.070195               0.070195   \n",
      "710          0.160696          -0.069340              -0.069340   \n",
      "530         -0.096061           0.000427               0.000427   \n",
      "489          0.133669          -0.046085              -0.046085   \n",
      "575         -0.096061           0.023683               0.023683   \n",
      "403          0.066101          -0.046085              -0.046085   \n",
      "643         -0.014980           0.000427               0.000427   \n",
      "734          0.160696          -0.092596              -0.092596   \n",
      "263         -0.123088          -0.046085              -0.046085   \n",
      "349         -0.001466          -0.092596              -0.092596   \n",
      "391         -0.001466          -0.022829              -0.022829   \n",
      "299          0.039074          -0.069340              -0.069340   \n",
      "176         -0.001466          -0.022829              -0.022829   \n",
      "495          0.322858          -0.046085              -0.046085   \n",
      "486          0.133669           0.023683               0.023683   \n",
      "120         -0.123088          -0.046085              -0.046085   \n",
      "196         -0.028493           0.070195               0.070195   \n",
      "708         -0.001466          -0.069340              -0.069340   \n",
      "563         -0.055520           0.116706               0.116706   \n",
      "636         -0.096061           0.000427               0.000427   \n",
      "382          0.039074          -0.092596              -0.092596   \n",
      "234          0.039074           0.046939               0.046939   \n",
      "..                ...                ...                    ...   \n",
      "507         -0.123088           0.139962               0.139962   \n",
      "448          0.160696           0.070195               0.070195   \n",
      "533         -0.123088          -0.022829              -0.022829   \n",
      "670         -0.123088          -0.046085              -0.046085   \n",
      "548         -0.123088           0.163218               0.163218   \n",
      "614         -0.096061          -0.092596              -0.092596   \n",
      "479          0.160696          -0.092596              -0.092596   \n",
      "452          0.160696          -0.069340              -0.069340   \n",
      "212         -0.096061          -0.092596              -0.092596   \n",
      "72          -0.096061           0.279497               0.279497   \n",
      "560         -0.096061           0.139962               0.139962   \n",
      "583         -0.123088          -0.092596              -0.092596   \n",
      "724          0.133669          -0.092596              -0.092596   \n",
      "218         -0.096061          -0.092596              -0.092596   \n",
      "665         -0.001466          -0.092596              -0.092596   \n",
      "629         -0.055520           0.139962               0.139962   \n",
      "213         -0.096061          -0.092596              -0.092596   \n",
      "711          0.160696           0.023683               0.023683   \n",
      "602         -0.028493          -0.046085              -0.046085   \n",
      "651          0.066101           0.000427               0.000427   \n",
      "163         -0.123088          -0.092596              -0.092596   \n",
      "721          0.160696          -0.046085              -0.046085   \n",
      "404          0.039074           0.000427               0.000427   \n",
      "520         -0.123088           0.139962               0.139962   \n",
      "484          0.160696          -0.092596              -0.092596   \n",
      "733          0.160696          -0.092596              -0.092596   \n",
      "604         -0.096061          -0.069340              -0.069340   \n",
      "123         -0.123088           0.000427               0.000427   \n",
      "461          0.133669          -0.092596              -0.092596   \n",
      "432          0.066101           0.046939               0.046939   \n",
      "\n",
      "     Time (months)  whether he/she donated blood in March 2007  \n",
      "676      -0.097680                                           0  \n",
      "308      -0.128930                                           0  \n",
      "679      -0.076847                                           0  \n",
      "674       0.277320                                           0  \n",
      "485       0.183570                                           0  \n",
      "348      -0.253930                                           0  \n",
      "209      -0.222680                                           0  \n",
      "336      -0.076847                                           0  \n",
      "538       0.027320                                           1  \n",
      "710      -0.128930                                           0  \n",
      "530      -0.201847                                           1  \n",
      "489       0.298153                                           0  \n",
      "575       0.027320                                           1  \n",
      "403      -0.014347                                           0  \n",
      "643       0.027320                                           0  \n",
      "734      -0.128930                                           0  \n",
      "263       0.027320                                           1  \n",
      "349      -0.253930                                           0  \n",
      "391       0.246070                                           0  \n",
      "299      -0.222680                                           0  \n",
      "176      -0.201847                                           1  \n",
      "495       0.298153                                           0  \n",
      "486       0.527320                                           0  \n",
      "120      -0.201847                                           1  \n",
      "196       0.027320                                           1  \n",
      "708       0.027320                                           1  \n",
      "563       0.121070                                           0  \n",
      "636       0.235653                                           0  \n",
      "382      -0.222680                                           0  \n",
      "234      -0.097680                                           0  \n",
      "..             ...                                         ...  \n",
      "507      -0.128930                                           0  \n",
      "448       0.298153                                           0  \n",
      "533      -0.222680                                           0  \n",
      "670       0.433570                                           0  \n",
      "548       0.360653                                           1  \n",
      "614      -0.326847                                           0  \n",
      "479      -0.128930                                           0  \n",
      "452      -0.076847                                           0  \n",
      "212      -0.326847                                           0  \n",
      "72        0.371070                                           1  \n",
      "560       0.298153                                           1  \n",
      "583      -0.347680                                           0  \n",
      "724      -0.149763                                           0  \n",
      "218      -0.326847                                           0  \n",
      "665      -0.253930                                           0  \n",
      "629       0.558570                                           0  \n",
      "213      -0.326847                                           0  \n",
      "711       0.100237                                           0  \n",
      "602      -0.222680                                           0  \n",
      "651      -0.087263                                           0  \n",
      "163      -0.347680                                           1  \n",
      "721      -0.003930                                           0  \n",
      "404       0.298153                                           0  \n",
      "520       0.048153                                           1  \n",
      "484      -0.128930                                           0  \n",
      "733      -0.128930                                           0  \n",
      "604      -0.233097                                           0  \n",
      "123      -0.024763                                           1  \n",
      "461      -0.149763                                           0  \n",
      "432       0.537737                                           1  \n",
      "\n",
      "[599 rows x 5 columns]\n"
     ]
    }
   ],
   "source": [
    "import numpy as np  \n",
    "import pandas as pd \n",
    "from sklearn.model_selection import train_test_split\n",
    "from sklearn.preprocessing import normalize\n",
    "  \n",
    "df = pd.read_csv('transfusion.csv',delimiter=',')\n",
    "df_0 = df[df['whether he/she donated blood in March 2007']==0]\n",
    "df_1 = df[df['whether he/she donated blood in March 2007']==1]\n",
    "df_0_test, df_0_train =  train_test_split(df_0, train_size=0.2,shuffle = False)\n",
    "df_1_test, df_1_train =  train_test_split(df_1, train_size=0.2,shuffle = False)\n",
    "test = pd.concat([df_0_test , df_1_test])\n",
    "train = pd.concat([df_0_train ,df_1_train])\n",
    "test = test.sample(frac=1)\n",
    "train = train.sample(frac=1)\n",
    "# shuffle the dataset\n",
    "train_X = train.iloc[:,0:4]\n",
    "train_y = train.iloc[:,4:5]\n",
    "test_X = test.iloc[:,0:4]\n",
    "test_y = test.iloc[:,4:5]\n",
    "def norm(df):\n",
    "    df_norm = (df - df.mean()) / (df.max() - df.min())\n",
    "    return df_norm\n",
    "train_X = norm(train_X)\n",
    "test_X = norm(test_X)\n",
    "train = pd.concat([train_X , train_y] ,axis =1)\n",
    "test = pd.concat([test_X , test_y],axis =1)\n",
    "#  normalize the data\n",
    "print train\n",
    "\n",
    "\n",
    "\n"
   ]
  },
  {
   "cell_type": "markdown",
   "metadata": {},
   "source": [
    "# (b) Supervised Learning:"
   ]
  },
  {
   "cell_type": "code",
   "execution_count": 116,
   "metadata": {},
   "outputs": [
    {
     "name": "stdout",
     "output_type": "stream",
     "text": [
      "0.2348993288590604\n",
      "GridSearchCV(cv=5, error_score='raise',\n",
      "       estimator=LinearSVC(C=1.0, class_weight=None, dual=False, fit_intercept=True,\n",
      "     intercept_scaling=1, loss='squared_hinge', max_iter=1000,\n",
      "     multi_class='ovr', penalty='l1', random_state=None, tol=0.0001,\n",
      "     verbose=0),\n",
      "       fit_params=None, iid=True, n_jobs=1,\n",
      "       param_grid={'C': array([9.76562e-04, 4.55675e-03, 2.12623e-02, 9.92126e-02, 4.62937e-01,\n",
      "       2.16012e+00, 1.00794e+01, 4.70315e+01, 2.19454e+02, 1.02400e+03])},\n",
      "       pre_dispatch='2*n_jobs', refit=True, return_train_score='warn',\n",
      "       scoring=None, verbose=0)\n",
      "[-0.68571946 -0.69867295 -0.70102118 -0.73273151 -1.20805959 -0.53912453\n",
      " -0.47396878 -0.58108082 -0.07749753 -1.06664211 -0.12130134 -1.25631298\n",
      " -0.2455661  -0.82688658 -0.52950097 -1.11069628 -0.29776835 -0.53912453\n",
      " -0.77420332 -0.6379633  -0.44521633 -1.81603465 -1.29246941 -0.12944943\n",
      " -0.35735836 -0.70164359 -0.25814754 -0.44263746 -0.68201746 -0.5095028\n",
      " -0.09859911 -0.96558029 -0.20570767 -0.9186969  -0.41411914  0.4558489\n",
      " -0.08169327 -0.86699187 -0.13524929 -0.81738472 -0.41646389 -0.6379633\n",
      " -0.11414771 -0.2745689  -1.46818884 -0.50580081 -0.53912453 -0.30677298\n",
      " -0.30356821 -0.13080319 -0.59243367 -0.20570767 -0.7527262  -1.3209715\n",
      " -0.20929145 -0.16165351 -0.07589341 -0.36822673 -0.54837951 -0.20570767\n",
      " -0.94930034 -0.23396637 -0.94832211 -0.2344636  -0.58316943 -0.53702666\n",
      " -0.30515611 -0.54652851 -1.11069628 -0.87427068 -0.44473533 -0.48161964\n",
      " -0.39326443 -0.20570767 -0.20570767 -0.69151932 -0.20570767 -0.77790532\n",
      " -1.11069628 -0.78123177  0.19497555 -0.96485242 -0.67844413 -1.05739061\n",
      "  0.16979992  0.38809457 -0.51667266 -0.14265328 -1.25334234 -0.11044571\n",
      " -0.55281286 -1.10207067 -0.76999135 -1.06319048 -0.27826741 -0.07354518\n",
      " -0.58293182 -0.35267814 -0.27961191 -0.65326502 -0.53912453  0.14647529\n",
      " -1.0019836   0.0551622  -0.71212367 -0.61476385 -1.14500171 -0.68201746\n",
      " -1.14685271 -0.04504309 -0.77727942 -0.14795939 -0.12130134 -0.43361661\n",
      " -0.6379633  -0.20570767 -0.87884196 -0.41338431 -0.60476476 -0.20570767\n",
      " -0.15807669 -0.49507036 -1.17695892 -0.87279174 -0.56343087 -1.11069628\n",
      " -0.43571796 -0.27061655 -0.6379633  -0.31652519 -0.79863136 -0.69114727\n",
      " -0.18065722 -0.06194545 -0.44965317 -0.14968173 -0.63020698 -0.61846584\n",
      " -0.62353783 -1.0630653  -0.2590203  -0.20570767 -0.42054142 -0.57157896\n",
      " -0.08958174 -0.26407606 -1.0784922  -0.71718292 -0.3658785  -0.40488039\n",
      " -1.12439736 -0.20570767 -0.08169327 -0.11044571 -0.75406722 -0.57836054\n",
      " -0.96645306 -1.01543432 -0.63216344 -0.29196849  0.48484474 -0.4613943\n",
      " -0.70373219 -0.45409926 -0.13524929 -1.03443803 -0.68201746  0.42462305\n",
      " -0.68201746 -0.07379553 -0.97138016 -0.49507036 -0.2418641  -0.20570767\n",
      " -0.94832211 -1.87279195 -0.42634128 -0.54652851 -1.52754472 -0.72742539\n",
      " -0.72397376 -0.12685433 -0.68201746 -0.44386257 -0.20570767 -0.16165351\n",
      " -0.30307098 -0.58898204 -0.98668188 -0.37340419 -1.01543432  0.03195926\n",
      " -0.53912453 -0.15820187 -0.53814978 -0.67289114 -0.44077372 -1.10810466\n",
      " -0.52987303 -0.36686022 -0.46027118 -0.20570767 -0.77727942 -0.61610486\n",
      " -0.44263746 -0.77727942 -0.20903761 -1.25001588 -0.70237494 -0.35451639\n",
      " -0.68201746 -0.22483656 -0.78468341 -0.30862397 -3.44461426 -1.82516097\n",
      " -0.11044571 -0.68201746 -1.09121505 -0.67226873 -0.68029513  0.01233662\n",
      " -0.04714096 -0.74877734 -0.2838204  -0.54702574 -0.41228438 -0.11044571\n",
      " -0.49854171 -0.6379633  -1.03443803 -0.44126747 -0.08909725 -0.53912453\n",
      " -1.18140502 -0.30701985  0.00888498 -0.27481577 -0.35082714 -1.01543432\n",
      " -0.29516977 -0.58144361 -0.42449028 -0.72742539 -1.01543432 -0.77727942\n",
      " -0.76445459 -0.30121999 -0.12130134 -0.64166529 -0.68201746 -0.61106185\n",
      " -0.68892422 -1.11069628 -0.65339368 -1.09909655 -0.31442384 -0.20570767\n",
      " -0.72879539  1.04940079 -0.09650124 -1.08959469 -0.73322526 -0.77727942\n",
      " -0.13524929 -0.20570767 -0.57157896 -0.7545772  -1.06664211 -0.72879539\n",
      " -0.20570767 -0.40498934 -0.65696701 -0.26666768 -1.01543432 -1.12181849\n",
      " -1.07269233 -0.77727942  1.09715695 -0.77727942 -0.356627   -1.15425669\n",
      " -0.64906928 -0.47224644 -0.11044571 -0.80875563 -0.19065631 -0.74482847\n",
      " -0.18275857 -0.30935533 -0.07379553 -0.15005378 -1.01098822 -0.70237494\n",
      " -0.27851776 -0.48235448 -0.49507036 -1.01543432 -0.20940966  0.00715917\n",
      " -0.35278708 -0.77727942 -0.52035842 -0.54282652 -0.85206569 -0.0413411\n",
      " -0.04985197 -0.24964014 -1.11069628 -0.54282652 -0.56071059 -0.58085018\n",
      " -1.15327846 -0.80973386 -0.78950504 -0.86909323 -0.76221531 -0.26851868\n",
      " -1.05739061  0.76952721 -1.02186008 -0.64906928 -0.56948109 -0.33575955\n",
      " -0.77518155 -0.44386257 -0.41511012 -0.44891833 -0.07009354 -0.6021824\n",
      " -1.20225973 -0.53912453 -1.07355235 -0.15820187 -1.00963446 -0.35452913\n",
      " -0.11044571 -0.11044571 -0.56923074 -3.53987622 -0.93930474 -0.20570767\n",
      " -0.20570767 -0.20570767 -0.1653555  -0.20570767 -0.68201746 -0.13524929\n",
      " -0.23816211 -0.07564653 -0.52124394 -0.18435921 -0.59453154 -0.49852548\n",
      " -1.11069628 -0.24346822 -0.20570767 -0.68201746 -1.82516097 -0.73347562\n",
      " -0.5288948  -0.20570767 -0.17535459 -0.3647751  -1.01543432 -0.77727942\n",
      " -0.77727942 -0.68571946 -0.88464182 -0.97138016 -0.76655246 -0.17350359\n",
      " -0.94647111 -0.09119513 -0.5657791  -0.68201746 -0.6379633  -0.53122679\n",
      " -0.38660804 -0.77727942 -0.68474123 -0.69744785 -0.68201746 -0.44263746\n",
      " -0.66499341 -0.20570767 -0.68127336 -0.53912453 -0.77727942 -0.41993524\n",
      " -0.86144237 -0.04319209 -0.21916188 -0.88896622 -0.65486914 -0.64746516\n",
      " -1.16030343 -0.11044571 -0.25136596 -0.20570767 -1.20855682 -0.19780994\n",
      " -0.79863136 -0.53912453 -0.77727942 -0.7545772  -0.22261351 -0.47507915\n",
      " -0.81713785 -0.08169327 -0.41993524 -0.1134036  -0.97828691 -1.55629717\n",
      " -0.73927548 -0.77727942 -0.19990781 -1.15265257 -0.11044571  0.13117357\n",
      " -0.22705961 -0.44263746 -0.20570767 -0.15560677 -0.68201746 -0.68201746\n",
      " -0.17485736 -0.53912453 -0.48298964  0.19374348 -1.11069628 -0.93239798\n",
      " -0.74062924 -0.6379633  -0.64166529 -0.036895   -0.38513258 -0.64993856\n",
      " -0.11044571 -0.34712515 -0.66129142 -0.53912453 -1.3436772  -0.49507036\n",
      " -0.20570767 -1.11069628 -1.01543432 -0.88019572 -1.01543432 -0.35292501\n",
      " -0.58245082 -0.16770373 -0.66387725 -0.88117396 -0.68201746 -0.41769596\n",
      " -1.30221814 -0.20928797 -0.05071778 -1.21385945 -1.11069628 -0.80048236\n",
      " -0.08539526 -0.41251502 -0.20570767 -1.20040873  0.03171239 -0.98668188\n",
      " -0.73692725 -0.5293758  -0.17275949 -0.46842275 -0.12759843 -0.53332466\n",
      " -0.77727942 -0.16165351 -1.01543432 -0.20570767 -0.61291285 -0.56505123\n",
      " -0.20570767 -0.05454495 -0.22261351 -0.53912453 -0.74272712 -1.14637171\n",
      " -0.86674152 -1.11069628 -0.92795188 -0.22051564 -0.08909725 -1.01543432\n",
      " -0.68201746 -0.36057587 -1.10489641 -0.23076161 -1.92042293 -1.22473131\n",
      " -0.83453744 -0.73692725  0.91723829 -0.73322526 -0.35452913 -0.74014825\n",
      "  0.50470499 -1.11069628 -0.46544863 -0.98668188 -0.96558029 -0.54097552\n",
      " -0.45336442 -0.77727942 -0.08094916 -1.08959469 -0.6379633  -0.20570767\n",
      " -0.61291285 -0.56183023 -0.53912453 -1.12044849 -0.60983327 -0.3133042\n",
      " -0.6379633  -0.4737219  -0.11044571 -1.01543432 -0.42139795 -0.55392902\n",
      " -0.59761113 -0.82873757 -0.37192873 -0.93770061 -0.21866465 -0.0545067\n",
      " -1.06084225 -1.01543432 -0.5138272  -1.03443803 -0.18855844 -0.21940875\n",
      "  0.18867846 -1.05431451 -0.42275172 -1.13760121 -1.01543432 -0.77727942\n",
      " -0.54443064 -1.11069628 -0.61871271 -0.16905749 -0.11044571 -0.13895128\n",
      " -0.51802294 -0.44868768 -1.00173672 -0.07009354 -0.4892705  -0.60156348\n",
      " -0.67017086 -0.20570767 -0.19990781 -0.40093153 -0.34835722 -0.11044571\n",
      " -0.26703973 -0.26037407 -0.44386257 -0.68360884 -0.39488131  0.16942787\n",
      " -1.11600239 -0.07009354 -0.5961519  -0.1461084  -0.20570767 -1.11069628\n",
      " -1.10489641 -0.20570767 -0.01344867 -0.22421764 -0.11044571 -1.01543432\n",
      " -0.20570767 -0.53912453 -0.5354295  -0.20570767 -1.05874438 -0.39400854\n",
      " -0.68522223 -0.11044571 -1.11439827 -0.88834382  0.03936325 -1.11069628\n",
      " -1.11069628 -0.23051125 -0.17140572 -1.01543432 -1.05616551]\n"
     ]
    },
    {
     "data": {
      "text/plain": [
       "{'C': 2.1601194777846118}"
      ]
     },
     "execution_count": 116,
     "metadata": {},
     "output_type": "execute_result"
    }
   ],
   "source": [
    "from sklearn import svm\n",
    "from sklearn.model_selection import GridSearchCV\n",
    "from sklearn import metrics\n",
    "\n",
    "\n",
    "\n",
    "\n",
    "clf = svm.LinearSVC(penalty='l1',dual=False)\n",
    "parameters = {'C':np.logspace(-10, 10, num=10, base=2)}\n",
    "#       he weight of the SVM penalty\n",
    "grid = GridSearchCV(clf,parameters,cv=5)\n",
    "grid.fit(train_X,train_y)\n",
    "error = 1 - grid.score(test_X,test_y)\n",
    "\n",
    "print error\n",
    "print grid\n",
    "\n",
    "print grid.decision_function(train_X)\n",
    "grid.best_params_\n"
   ]
  },
  {
   "cell_type": "markdown",
   "metadata": {},
   "source": [
    "# for training data\n",
    "Use normalized data. Report the accuracy, AUC, ROC, and confusion matrix for both training and test sets.\n",
    "\n",
    "\n"
   ]
  },
  {
   "cell_type": "code",
   "execution_count": 117,
   "metadata": {
    "scrolled": true
   },
   "outputs": [
    {
     "data": {
      "image/png": "[encoded data removed]",
      "text/plain": [
       "<Figure size 432x288 with 1 Axes>"
      ]
     },
     "metadata": {},
     "output_type": "display_data"
    },
    {
     "name": "stdout",
     "output_type": "stream",
     "text": [
      "0.7889906146485095\n",
      "[[449   7]\n",
      " [127  16]]\n",
      "misclassification\n",
      "0.22370617696160267\n"
     ]
    }
   ],
   "source": [
    "import matplotlib.pyplot as plt\n",
    "\n",
    "y_true = train_y\n",
    "y_pred = grid.predict(train_X)\n",
    "y_hat = grid.decision_function(train_X)\n",
    "\n",
    "y_hat = np.ravel(y_hat)\n",
    "\n",
    "fprs, tprs, thresholds = metrics.roc_curve(y_true, y_hat)\n",
    "\n",
    "\n",
    "plt.plot(fprs, tprs, 'k--', lw=2)\n",
    "plt.scatter(fprs, tprs, c='k', marker='x', s=50)\n",
    "plt.plot(np.arange(-.05, 1.05, .01), np.arange(-.05, 1.05, .01), '--', color='lightgray')\n",
    "plt.xlabel('False positive rate')\n",
    "plt.ylabel('True positive rate')\n",
    "plt.xlim([0-.05, 1+.05])\n",
    "plt.ylim([0-.05, 1+.05])\n",
    "plt.show()\n",
    "print(metrics.roc_auc_score(train_y, y_hat))\n",
    "print(metrics.confusion_matrix(y_true, y_pred))\n",
    "print(\"misclassification\")\n",
    "print(1-grid.score(train_X,train_y))\n",
    "\n",
    "\n",
    "\n"
   ]
  },
  {
   "cell_type": "markdown",
   "metadata": {},
   "source": [
    "# for test data \n",
    "\n",
    "\n"
   ]
  },
  {
   "cell_type": "code",
   "execution_count": 118,
   "metadata": {},
   "outputs": [
    {
     "data": {
      "image/png": "[encoded data removed]",
      "text/plain": [
       "<Figure size 432x288 with 1 Axes>"
      ]
     },
     "metadata": {},
     "output_type": "display_data"
    },
    {
     "name": "stdout",
     "output_type": "stream",
     "text": [
      "0.7259398496240601\n",
      "[[110   4]\n",
      " [ 31   4]]\n",
      "misclassification\n",
      "0.2348993288590604\n"
     ]
    }
   ],
   "source": [
    "y_true = test_y\n",
    "y_pred = grid.predict(test_X)\n",
    "y_hat = grid.decision_function(test_X)\n",
    "\n",
    "y_hat = np.ravel(y_hat)\n",
    "\n",
    "fprs, tprs, thresholds = metrics.roc_curve(y_true, y_hat)\n",
    "\n",
    "\n",
    "plt.plot(fprs, tprs, 'k--', lw=2)\n",
    "plt.scatter(fprs, tprs, c='k', marker='x', s=50)\n",
    "plt.plot(np.arange(-.05, 1.05, .01), np.arange(-.05, 1.05, .01), '--', color='lightgray')\n",
    "plt.xlabel('False positive rate')\n",
    "plt.ylabel('True positive rate')\n",
    "plt.xlim([0-.05, 1+.05])\n",
    "plt.ylim([0-.05, 1+.05])\n",
    "plt.show()\n",
    "print(metrics.roc_auc_score(test_y, y_hat))\n",
    "print(metrics.confusion_matrix(y_true, y_pred))\n",
    "print(\"misclassification\")\n",
    "print(1-grid.score(test_X,test_y))\n",
    "\n",
    "\n",
    "\n"
   ]
  },
  {
   "cell_type": "markdown",
   "metadata": {},
   "source": [
    "# (c) Semi-Supervised Learning/ Self-training:"
   ]
  },
  {
   "cell_type": "code",
   "execution_count": 142,
   "metadata": {},
   "outputs": [],
   "source": [
    "train_0 = train[train['whether he/she donated blood in March 2007']==0]\n",
    "train_1 = train[train['whether he/she donated blood in March 2007']==1]\n",
    "train_0_part1, train_0_part2 =  train_test_split(train_0 , train_size=0.5,shuffle = True)\n",
    "train_1_part1, train_1_part2 =  train_test_split(train_1 , train_size=0.5,shuffle = True)\n",
    "train_part1 = pd.concat([ train_0_part1,train_1_part1])\n",
    "train_part2 = pd.concat([ train_0_part2,train_1_part2])\n",
    "train_labeled  = train_part1.sample(frac=1)\n",
    "train_unlabelled = train_part2.sample(frac=1)\n"
   ]
  },
  {
   "cell_type": "markdown",
   "metadata": {},
   "source": [
    "# c(i)"
   ]
  },
  {
   "cell_type": "code",
   "execution_count": 143,
   "metadata": {},
   "outputs": [
    {
     "name": "stdout",
     "output_type": "stream",
     "text": [
      "LinearSVC(C=0.46293735614364534, class_weight=None, dual=False,\n",
      "     fit_intercept=True, intercept_scaling=1, loss='squared_hinge',\n",
      "     max_iter=1000, multi_class='ovr', penalty='l1', random_state=None,\n",
      "     tol=0.0001, verbose=0)\n"
     ]
    }
   ],
   "source": [
    "from sklearn import svm\n",
    "from sklearn.model_selection import GridSearchCV\n",
    "labeltrain_X = train_labeled.iloc[:,0:4]\n",
    "labeltrain_y = train_labeled.iloc[:,4:5]\n",
    "\n",
    "\n",
    "\n",
    "clf = svm.LinearSVC(penalty='l1',dual=False)\n",
    "\n",
    "parameters = {'C':np.logspace(-10, 10, num=10, base=2)}\n",
    "#       he weight of the SVM penalty\n",
    "grid = GridSearchCV(clf,parameters,cv=5)\n",
    "grid.fit(labeltrain_X,labeltrain_y)\n",
    "print grid.best_estimator_"
   ]
  },
  {
   "cell_type": "markdown",
   "metadata": {},
   "source": [
    "# c(ii)\n",
    "I should add the most confidently classified data point to your pool when doing semi-supervised learning which is the farthest point"
   ]
  },
  {
   "cell_type": "code",
   "execution_count": 180,
   "metadata": {},
   "outputs": [],
   "source": [
    "def selectpoints(x,grid):\n",
    "#     The desion function tells us on which side of the hyperplane generated by the\n",
    "#     classifier we are (and how far we are away from it). Based on that information, \n",
    "#     the estimator then label the examples with the corresponding label.\n",
    "\n",
    "    dist=grid.decision_function(x)\n",
    "    myList=dist.tolist()\n",
    "    dist=map(abs, myList)\n",
    "    k = 1\n",
    "    index = sorted(range(len(dist)), key=lambda k: dist[k],reverse=True)[0:k]\n",
    "    #get closest point index\n",
    "    return index\n",
    "def judgepoint(x,grid):\n",
    "    result = grid.decision_function(x)\n",
    "    if result >= 0:\n",
    "        return pd.DataFrame(np.array([1]),columns=['whether he/she donated blood in March 2007']) \n",
    "    else:\n",
    "        return pd.DataFrame(np.array([0]),columns=['whether he/she donated blood in March 2007'])"
   ]
  },
  {
   "cell_type": "code",
   "execution_count": 181,
   "metadata": {},
   "outputs": [
    {
     "name": "stdout",
     "output_type": "stream",
     "text": [
      "LinearSVC(C=0.46293735614364534, class_weight=None, dual=False,\n",
      "     fit_intercept=True, intercept_scaling=1, loss='squared_hinge',\n",
      "     max_iter=1000, multi_class='ovr', penalty='l1', random_state=None,\n",
      "     tol=0.0001, verbose=0)\n"
     ]
    }
   ],
   "source": [
    "unlabeltrain_X = train_unlabelled.iloc[:,0:4]\n",
    "\n",
    "left_X = unlabeltrain_X\n",
    "subtrain_X = labeltrain_X\n",
    "subtrain_y = labeltrain_y \n",
    "for i in range(len(unlabeltrain_X)):\n",
    "    left_X = left_X.reset_index(drop=True)\n",
    "    index = selectpoints(left_X,grid)\n",
    "    subtrain_X = pd.concat([subtrain_X,left_X.iloc[index]])\n",
    "    subtrain_y = pd.concat([subtrain_y,judgepoint(left_X.iloc[index],grid)])\n",
    "    left_X = left_X.drop(index)\n",
    "    clf = svm.LinearSVC(penalty='l1',dual=False)\n",
    "    parameters = {'C':np.logspace(-10, 10, num=10, base=2)}\n",
    "    grid = GridSearchCV(clf,parameters,cv=5)\n",
    "    grid.fit(subtrain_X,subtrain_y)\n",
    "print grid.best_estimator_\n",
    "    \n",
    "    \n",
    "    "
   ]
  },
  {
   "cell_type": "code",
   "execution_count": 182,
   "metadata": {},
   "outputs": [
    {
     "data": {
      "image/png": "[encoded data removed]",
      "text/plain": [
       "<Figure size 432x288 with 1 Axes>"
      ]
     },
     "metadata": {},
     "output_type": "display_data"
    },
    {
     "name": "stdout",
     "output_type": "stream",
     "text": [
      "0.7983709273182958\n",
      "[[114   0]\n",
      " [ 33   2]]\n",
      "misclassification\n",
      "0.2214765100671141\n"
     ]
    }
   ],
   "source": [
    "y_true = test_y\n",
    "y_pred = grid.predict(test_X)\n",
    "y_hat = grid.decision_function(test_X)\n",
    "\n",
    "y_hat = np.ravel(y_hat)\n",
    "\n",
    "fprs, tprs, thresholds = metrics.roc_curve(y_true, y_hat)\n",
    "\n",
    "\n",
    "plt.plot(fprs, tprs, 'k--', lw=2)\n",
    "plt.scatter(fprs, tprs, c='k', marker='x', s=50)\n",
    "plt.plot(np.arange(-.05, 1.05, .01), np.arange(-.05, 1.05, .01), '--', color='lightgray')\n",
    "plt.xlabel('False positive rate')\n",
    "plt.ylabel('True positive rate')\n",
    "plt.xlim([0-.05, 1+.05])\n",
    "plt.ylim([0-.05, 1+.05])\n",
    "plt.show()\n",
    "print(metrics.roc_auc_score(test_y, y_hat))\n",
    "print(metrics.confusion_matrix(y_true, y_pred))\n",
    "print(\"misclassification\")\n",
    "print(1-grid.score(test_X,test_y))"
   ]
  },
  {
   "cell_type": "markdown",
   "metadata": {},
   "source": [
    "# (d) Unsupervised Learning:\n"
   ]
  },
  {
   "cell_type": "markdown",
   "metadata": {},
   "source": [
    "# d(i)\n",
    "we can find the average squared distances of samples to their closest cluster center is 0.0528, it means that the\n",
    "algorithm was not trapped in a local minimum."
   ]
  },
  {
   "cell_type": "code",
   "execution_count": 183,
   "metadata": {},
   "outputs": [
    {
     "name": "stdout",
     "output_type": "stream",
     "text": [
      "[0 0 0 1 1 0 0 0 0 0 0 1 0 0 0 0 0 0 1 0 0 1 1 0 0 0 1 1 0 0 0 0 0 0 1 1 0\n",
      " 0 0 0 0 0 0 1 1 0 0 1 0 0 0 0 0 1 1 0 0 0 0 0 1 1 1 1 1 0 1 0 0 1 0 0 0 0\n",
      " 0 0 0 1 0 1 1 1 1 0 1 1 1 0 1 0 1 1 1 0 0 0 0 1 1 0 0 0 0 1 0 0 0 0 0 0 0\n",
      " 1 0 0 0 0 1 0 0 0 0 0 1 0 0 0 1 0 0 1 0 0 0 0 1 0 1 1 1 0 1 0 1 0 1 1 0 1\n",
      " 0 1 0 0 0 0 1 0 1 0 0 0 1 1 1 1 0 0 0 1 0 0 0 0 0 0 1 0 1 0 1 0 0 0 0 0 0\n",
      " 0 0 1 0 0 0 1 0 0 1 0 1 1 0 1 1 0 0 1 1 0 0 1 0 1 0 0 0 1 1 0 0 0 1 0 1 1\n",
      " 0 0 0 0 1 0 1 0 0 0 0 0 0 0 0 0 1 0 0 1 1 0 0 0 1 0 0 0 0 0 0 0 1 0 1 0 1\n",
      " 1 1 0 0 0 0 0 0 0 0 1 0 0 0 0 0 1 0 0 1 0 0 1 1 1 0 1 0 1 1 1 0 0 0 0 1 1\n",
      " 0 0 0 0 1 0 1 0 1 0 1 0 0 0 0 1 1 0 1 1 1 0 0 1 1 1 0 1 0 0 0 0 0 0 1 0 1\n",
      " 0 0 1 0 0 0 1 1 0 0 0 0 0 0 0 0 0 1 0 0 1 0 1 0 0 0 0 1 0 0 0 0 0 0 0 1 0\n",
      " 1 0 1 0 0 0 0 0 0 0 1 1 0 1 1 0 0 0 0 1 1 0 1 1 1 0 0 0 0 0 1 0 0 0 0 0 0\n",
      " 1 1 0 1 0 1 1 0 0 0 0 0 0 0 1 0 0 0 0 0 0 0 1 0 1 0 0 0 0 1 0 0 0 1 0 1 0\n",
      " 0 0 0 1 0 0 1 0 1 0 0 1 1 1 0 1 0 0 0 0 0 1 1 0 0 0 0 1 0 0 0 0 0 0 0 1 0\n",
      " 0 0 0 0 1 0 0 1 1 0 0 0 0 0 0 0 1 0 0 1 0 1 1 1 0 0 0 0 0 0 0 0 0 0 0 0 0\n",
      " 0 1 0 0 0 0 0 0 1 0 0 0 0 1 1 1 0 0 1 0 0 0 0 1 1 1 0 0 1 0 0 0 0 0 0 1 1\n",
      " 0 0 1 1 0 0 1 1 0 0 1 0 1 0 0 1 0 1 1 0 0 0 0 1 1 0 0 0 0 1 0 1 0 0 0 0 1\n",
      " 1 0 0 0 0 0 1]\n",
      "[[-0.00260088 -0.04734784 -0.04734784 -0.14335917]\n",
      " [ 0.00542966  0.09884471  0.09884471  0.29928075]]\n",
      "0.05280500248891806\n"
     ]
    }
   ],
   "source": [
    "from sklearn.cluster import KMeans\n",
    "\n",
    "\n",
    "nolabeltrain = train_X\n",
    "number = len(nolabeltrain)\n",
    "kmeans = KMeans(n_clusters=2, random_state=0,n_init=20).fit(nolabeltrain)\n",
    "# n_init is the Number of time the k-means algorithm will be run with different centroid seeds.\n",
    "print kmeans.labels_\n",
    "print kmeans.cluster_centers_\n",
    "print kmeans.inertia_/number\n"
   ]
  },
  {
   "cell_type": "markdown",
   "metadata": {},
   "source": [
    "# d(ii)\n",
    "In these question, we need to balance our train dataset to avoid that we cannot figure which center is which lable becasue label 0 is dominating."
   ]
  },
  {
   "cell_type": "markdown",
   "metadata": {},
   "source": [
    "training again in balanced dataset with the method of SMOTE:"
   ]
  },
  {
   "cell_type": "code",
   "execution_count": 196,
   "metadata": {},
   "outputs": [
    {
     "name": "stdout",
     "output_type": "stream",
     "text": [
      "[0 0 0 1 1 0 0 0 0 0 0 1 0 0 0 0 0 0 1 0 0 1 1 0 0 0 1 1 0 0 0 0 0 0 1 1 0\n",
      " 0 0 0 0 0 0 1 1 0 0 0 0 0 0 0 0 1 1 0 0 0 0 0 0 1 1 0 1 0 1 0 0 1 0 0 0 0\n",
      " 0 0 0 1 0 0 1 1 1 0 1 1 1 0 0 0 1 1 1 0 0 0 0 1 1 0 0 0 0 1 0 0 0 0 0 0 0\n",
      " 1 0 0 0 0 1 0 0 0 0 0 1 0 0 0 1 0 0 1 0 0 0 0 1 0 1 1 1 0 1 0 1 0 1 1 0 1\n",
      " 0 0 0 0 0 0 1 0 1 0 0 0 1 1 1 1 0 0 0 1 0 0 0 0 0 0 1 0 1 0 1 0 0 0 0 0 0\n",
      " 0 0 1 0 0 0 1 0 0 1 0 1 1 0 1 0 0 0 1 1 0 0 1 0 1 0 0 0 1 1 0 0 0 1 0 1 1\n",
      " 0 0 0 0 1 0 1 0 0 0 0 0 0 0 0 0 0 0 0 1 1 0 0 0 1 0 0 0 0 0 0 0 1 0 0 0 0\n",
      " 1 1 0 0 0 0 0 0 0 0 0 0 0 0 0 0 1 0 0 1 0 0 1 1 1 0 0 0 1 0 1 0 0 0 0 0 1\n",
      " 0 0 0 0 1 0 1 0 1 0 1 0 0 0 0 1 1 0 1 1 1 0 0 1 1 1 0 1 0 0 0 0 0 0 1 0 1\n",
      " 0 0 1 0 0 0 1 1 0 0 0 0 0 0 0 0 0 0 0 0 1 0 1 0 0 0 0 0 0 0 0 0 0 0 0 0 0\n",
      " 1 0 1 0 0 0 0 0 0 0 0 1 0 1 1 0 0 0 0 1 1 0 0 1 0 0 0 0 0 0 0 0 0 0 0 0 0\n",
      " 1 1 0 1 0 1 1 0 0 0 0 0 0 0 1 0 0 0 0 0 0 0 1 0 1 0 0 0 0 1 0 0 0 0 0 1 0\n",
      " 0 0 0 1 0 0 1 0 1 0 0 1 1 1 0 0 0 0 0 0 0 0 1 0 0 0 0 1 0 0 0 0 0 0 0 1 0\n",
      " 0 0 0 0 1 0 0 1 1 0 0 0 0 0 0 0 1 0 0 1 0 1 1 1 0 0 0 0 0 0 0 0 0 0 0 0 0\n",
      " 0 0 0 0 0 0 0 0 1 0 0 0 0 1 1 1 0 0 1 0 0 0 0 1 1 1 0 0 1 0 0 0 0 0 0 1 0\n",
      " 0 0 1 1 0 0 1 1 0 0 1 0 1 0 0 1 0 1 1 0 0 0 0 1 1 0 0 0 0 1 0 0 0 0 0 0 1\n",
      " 1 0 0 0 0 0 1 0 0 0 0 0 0 1 1 1 1 0 1 0 0 0 1 1 0 0 0 1 1 0 1 1 0 1 0 0 0\n",
      " 0 1 0 0 0 0 1 0 1 1 1 1 0 0 0 0 0 0 1 0 0 0 0 0 1 1 0 1 0 0 0 0 1 0 0 0 0\n",
      " 1 0 1 0 0 0 0 0 1 0 0 0 0 0 0 1 0 1 0 0 0 0 0 0 0 1 0 0 0 0 0 0 1 1 1 0 0\n",
      " 0 0 0 0 0 0 0 0 1 0 0 0 0 1 0 0 0 1 1 1 0 0 0 1 1 1 0 0 1 0 1 0 1 0 0 0 1\n",
      " 1 0 0 1 0 0 0 0 0 0 0 1 0 0 0 0 0 0 0 0 0 1 1 0 0 0 0 1 0 1 1 0 0 0 0 1 0\n",
      " 1 0 0 0 0 0 1 0 0 0 0 0 1 1 1 0 1 1 1 0 0 0 0 1 0 0 0 0 1 0 1 1 1 1 0 0 0\n",
      " 1 0 1 1 0 0 1 0 1 0 1 0 1 0 0 1 0 0 0 0 1 0 1 0 0 1 0 0 0 1 0 0 0 0 0 0 0\n",
      " 0 1 0 0 0 1 1 1 1 0 1 0 1 1 0 0 0 0 0 0 0 0 0 0 1 0 1 0 0 0 1 0 1 0 1 1 0\n",
      " 0 1 0 0 0 0 0 0 0 0 0 1 0 1 1 0 0 0 1 1 0 1 0 1]\n",
      "[[-0.02368744 -0.03734802 -0.03734802 -0.12858772]\n",
      " [-0.02795503  0.17270371  0.17270371  0.31422041]]\n",
      "0.06278040690111228\n"
     ]
    }
   ],
   "source": [
    "from imblearn.over_sampling import SMOTE\n",
    "sm = SMOTE()\n",
    "X_res, y_res = sm.fit_sample(train_X, train_y)\n",
    "number = len(X_res)\n",
    "kmeans = KMeans(n_clusters=2, random_state=0,n_init=10).fit(X_res)\n",
    "# n_init is the Number of time the k-means algorithm will be run with different centroid seeds.\n",
    "print kmeans.labels_\n",
    "print kmeans.cluster_centers_\n",
    "print kmeans.inertia_/number"
   ]
  },
  {
   "cell_type": "code",
   "execution_count": 197,
   "metadata": {},
   "outputs": [
    {
     "name": "stdout",
     "output_type": "stream",
     "text": [
      "true labels of points around center 0\n",
      "[0 0 0 0 0 0 0 0 0 0 0 0 0 0 1 1 1 1 1 0 1 0 0 1 1 0 0 1 1 1]\n",
      "true labels of points around center 1\n",
      "[1 0 1 0 0 0 1 1 1 1 1 1 1 1 0 1 1 0 0 1 1 1 0 0 0 1 0 1 1 0]\n"
     ]
    }
   ],
   "source": [
    "center_0 = kmeans.cluster_centers_[0]\n",
    "center_1 = kmeans.cluster_centers_[1]\n",
    "# def dis(x,y):\n",
    "#     return np.linalg.norm(x-y)\n",
    "# print dis(nolabeltrain.iloc[0],center_1)\n",
    "distance = kmeans.transform(X_res)\n",
    "# use transform to get the cluster-distance space.\n",
    "distance_to_0 = distance[:,0]\n",
    "distance_to_1 = distance[:,1]\n",
    "k = 30\n",
    "index_0 = sorted(range(len(distance_to_0)), key=lambda k: distance_to_0[k],reverse=False)[0:k]\n",
    "index_1 = sorted(range(len(distance_to_1)), key=lambda k: distance_to_1[k],reverse=False)[0:k]\n",
    "print 'true labels of points around center 0'\n",
    "print y_res[index_0]\n",
    "print 'true labels of points around center 1'\n",
    "print y_res[index_1]\n",
    "# take a majority poll within them and the label of center 0 is 0\n",
    "# take a majority poll within them and the label of center 1 is 1"
   ]
  },
  {
   "cell_type": "code",
   "execution_count": 198,
   "metadata": {},
   "outputs": [
    {
     "name": "stdout",
     "output_type": "stream",
     "text": [
      "accuracy\n",
      "0.5087719298245614\n",
      "matrix\n",
      "[[326 130]\n",
      " [318 138]]\n"
     ]
    }
   ],
   "source": [
    "y_pred = kmeans.labels_\n",
    "y_true = y_res\n",
    "print 'accuracy' \n",
    "print(metrics.accuracy_score(y_true, y_pred))\n",
    "print 'matrix'\n",
    "print(metrics.confusion_matrix(y_true, y_pred))"
   ]
  },
  {
   "cell_type": "markdown",
   "metadata": {},
   "source": [
    "# b(iii)"
   ]
  },
  {
   "cell_type": "code",
   "execution_count": 199,
   "metadata": {},
   "outputs": [
    {
     "name": "stdout",
     "output_type": "stream",
     "text": [
      "accuracy\n",
      "0.6442953020134228\n",
      "matrix\n",
      "[[84 30]\n",
      " [23 12]]\n"
     ]
    }
   ],
   "source": [
    "test_y_pred = kmeans.predict(test_X)\n",
    "test_y_true = test_y\n",
    "print 'accuracy' \n",
    "print(metrics.accuracy_score(test_y_true, test_y_pred))\n",
    "print 'matrix'\n",
    "print(metrics.confusion_matrix(test_y_true, test_y_pred))"
   ]
  },
  {
   "cell_type": "markdown",
   "metadata": {},
   "source": [
    "# (e) Extra Practice:"
   ]
  },
  {
   "cell_type": "markdown",
   "metadata": {},
   "source": [
    "#  f \n",
    "supervised learning on the full data set works no such better than semisupervised learning with half of the data set labeled. their misclassifications are almost same and the roc,auc for semisupervised learning is a litte better.\n",
    "Unsupervised learning underperforms in such situations and the accuracy is very low."
   ]
  }
 ],
 "metadata": {
  "kernelspec": {
   "display_name": "Python 2",
   "language": "python",
   "name": "python2"
  },
  "language_info": {
   "codemirror_mode": {
    "name": "ipython",
    "version": 2
   },
   "file_extension": ".py",
   "mimetype": "text/x-python",
   "name": "python",
   "nbconvert_exporter": "python",
   "pygments_lexer": "ipython2",
   "version": "2.7.14"
  }
 },
 "nbformat": 4,
 "nbformat_minor": 2
}
