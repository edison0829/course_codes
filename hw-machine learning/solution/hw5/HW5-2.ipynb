{
 "cells": [
  {
   "cell_type": "markdown",
   "metadata": {},
   "source": [
    "# K-Means Clustering on a Multi-Class and Multi-Label Data Set\n",
    "Ruotian Jiang\n",
    "8389636738"
   ]
  },
  {
   "cell_type": "markdown",
   "metadata": {},
   "source": [
    "# a"
   ]
  },
  {
   "cell_type": "code",
   "execution_count": 77,
   "metadata": {},
   "outputs": [],
   "source": [
    "import numpy as np  \n",
    "import pandas as pd \n",
    "import matplotlib.pyplot as plt\n",
    "from sklearn.cluster import KMeans\n",
    "from gap_statistic import OptimalK\n",
    "from imblearn.over_sampling import SMOTE\n",
    "\n",
    "df = pd.read_csv('Frogs_MFCCs.csv',delimiter=',') \n",
    "def norm(df):\n",
    "    df_norm = (df - df.mean()) / (df.max() - df.min())\n",
    "    return df_norm\n",
    "# normalize the value of features\n",
    "train = norm(df.iloc[:,0:22]).values\n",
    "y_true=df.iloc[:,22:25]"
   ]
  },
  {
   "cell_type": "markdown",
   "metadata": {},
   "source": [
    "# I will choose Gap Statistics to get the best value of K\n",
    "this package is used to calculate the gap statistic which is developed by Tibshirani, Walther, Hastie to suggest n_clusters."
   ]
  },
  {
   "cell_type": "code",
   "execution_count": 78,
   "metadata": {
    "scrolled": true
   },
   "outputs": [
    {
     "name": "stdout",
     "output_type": "stream",
     "text": [
      "Optimal clusters:  8\n"
     ]
    },
    {
     "data": {
      "image/png": "[encoded data removed]",
      "text/plain": [
       "<matplotlib.figure.Figure at 0x105b761d0>"
      ]
     },
     "metadata": {},
     "output_type": "display_data"
    }
   ],
   "source": [
    "\n",
    "optimalK = OptimalK(parallel_backend='None')\n",
    "\n",
    "n_clusters = optimalK(train, cluster_array=np.arange(1,11))\n",
    "print('Optimal clusters: ', n_clusters)\n",
    "optimalK.gap_df.head()\n",
    "\n",
    "plt.plot(optimalK.gap_df.n_clusters, optimalK.gap_df.gap_value, linewidth=3)\n",
    "plt.scatter(optimalK.gap_df[optimalK.gap_df.n_clusters == n_clusters].n_clusters,\n",
    "            optimalK.gap_df[optimalK.gap_df.n_clusters == n_clusters].gap_value, s=250, c='r')\n",
    "plt.grid(True)\n",
    "plt.xlabel('Cluster Count')\n",
    "plt.ylabel('Gap Value')\n",
    "plt.title('Gap Values by Cluster Count')\n",
    "plt.show()\n",
    "\n"
   ]
  },
  {
   "cell_type": "markdown",
   "metadata": {},
   "source": [
    "# b"
   ]
  },
  {
   "cell_type": "code",
   "execution_count": 79,
   "metadata": {},
   "outputs": [
    {
     "name": "stdout",
     "output_type": "stream",
     "text": [
      "[3 3 3 ... 3 3 3]\n",
      "[[ 6.35643300e-03 -5.11387955e-03 -7.65436631e-02  6.57186443e-02\n",
      "   4.60227640e-02 -4.96424936e-02 -7.46848788e-02  3.87327036e-02\n",
      "   1.06623139e-01  6.65631282e-04 -1.16363968e-01  7.81264532e-03\n",
      "   1.22037393e-01 -1.79666685e-02 -1.26847506e-01 -4.70423968e-03\n",
      "   1.09311042e-01  3.36591791e-02 -2.77340574e-02 -1.14385781e-01\n",
      "  -2.29383571e-02  1.41326709e-01]\n",
      " [ 1.71736262e-04  2.12549558e-05 -1.68276445e-01 -1.68600935e-01\n",
      "  -1.85746586e-02  5.30201226e-02  1.46682563e-01  3.62485202e-02\n",
      "  -2.06173956e-01 -6.34890628e-02  1.36917462e-01 -6.80712645e-02\n",
      "  -1.59013754e-01  1.31804458e-01  1.41198020e-01 -1.24372595e-01\n",
      "  -1.54838527e-01  1.93205200e-02  2.34927930e-02 -4.08212776e-03\n",
      "  -2.00672621e-02 -5.94975851e-02]\n",
      " [-2.01834679e-02  2.07788091e-01  2.97969540e-01 -3.21074613e-02\n",
      "  -1.16892296e-01  4.76596387e-02  1.97094637e-02  1.02099264e-01\n",
      "   3.15228805e-02 -1.69617733e-01  6.66224769e-02  1.95398310e-01\n",
      "  -1.64549655e-01 -1.42192899e-01  2.26147584e-01  4.02601895e-02\n",
      "  -1.86487940e-01 -5.24818979e-03  5.94339063e-02  1.44730680e-01\n",
      "  -1.29856553e-02 -2.65181661e-01]\n",
      " [ 8.08473570e-03 -7.70351234e-02 -2.37930681e-01 -9.60853688e-02\n",
      "   1.58437526e-01  7.84327708e-02 -2.83649401e-02 -1.30457168e-01\n",
      "  -7.70051838e-02  1.25147716e-01  1.32789118e-01 -1.79019260e-01\n",
      "  -1.88193233e-01  1.78458506e-01  2.17198570e-01 -4.68297881e-02\n",
      "  -1.94374858e-01 -5.74846962e-02  4.91628623e-02  1.31497656e-01\n",
      "   2.91115039e-03 -1.37642598e-01]\n",
      " [-6.64213019e-02  8.06639990e-02  3.22421014e-01 -7.94426771e-02\n",
      "  -2.11040122e-01  1.53305009e-01  1.26020882e-01 -1.46521026e-01\n",
      "  -5.80732341e-02  7.08429650e-02  4.48408858e-03 -4.93319357e-02\n",
      "   1.23063055e-02  6.92230256e-02  1.71169210e-02 -3.02500422e-02\n",
      "  -5.32231148e-02 -2.02771184e-02  4.05182694e-02  1.21111210e-01\n",
      "  -1.18298690e-02 -1.46318508e-01]\n",
      " [ 6.58767726e-03 -6.44349765e-02 -5.56405047e-02  8.76945868e-02\n",
      "   4.63309086e-02 -5.16661447e-02 -7.42408351e-02  4.33778872e-02\n",
      "   8.80024462e-02 -4.27528391e-02 -8.42365774e-02  8.98596061e-02\n",
      "   7.28248591e-02 -1.50974961e-01 -7.22710088e-02  1.31591339e-01\n",
      "   8.09402018e-02 -5.71974366e-02 -6.40079100e-02 -1.71441871e-02\n",
      "   1.20873253e-01  9.94007667e-02]\n",
      " [ 7.52779191e-03 -3.46548491e-02  5.27894820e-02 -8.38158849e-02\n",
      "  -1.04392218e-02  4.06128030e-02  4.08353754e-02 -5.59551430e-02\n",
      "  -7.42176831e-02  1.43910764e-02  8.19655921e-02 -8.48818981e-03\n",
      "  -4.58637304e-02  1.78224620e-02  2.69026152e-02 -1.47554777e-02\n",
      "  -3.29431351e-02  4.91189629e-03  4.77978842e-02  4.97868876e-02\n",
      "  -7.89883318e-02 -8.04863399e-02]\n",
      " [ 5.96228533e-03  1.19134256e-01  2.41306974e-01  5.61387699e-02\n",
      "  -2.27364111e-01 -9.15894888e-02  2.73235014e-01  4.00377682e-02\n",
      "  -3.09623645e-01  6.91456835e-02  2.42710698e-01 -1.35376756e-01\n",
      "  -1.46586428e-01  2.09928494e-01  9.44059676e-02 -1.65096794e-01\n",
      "  -3.30995638e-02  7.41494982e-02 -1.42281067e-02  2.62774384e-02\n",
      "   5.16122561e-02 -9.48530034e-02]]\n",
      "0       Leptodactylidae\n",
      "1       Leptodactylidae\n",
      "2       Leptodactylidae\n",
      "3       Leptodactylidae\n",
      "4       Leptodactylidae\n",
      "5       Leptodactylidae\n",
      "6       Leptodactylidae\n",
      "7       Leptodactylidae\n",
      "8       Leptodactylidae\n",
      "9       Leptodactylidae\n",
      "10      Leptodactylidae\n",
      "11      Leptodactylidae\n",
      "12      Leptodactylidae\n",
      "13      Leptodactylidae\n",
      "14      Leptodactylidae\n",
      "15      Leptodactylidae\n",
      "16      Leptodactylidae\n",
      "17      Leptodactylidae\n",
      "18      Leptodactylidae\n",
      "19      Leptodactylidae\n",
      "20      Leptodactylidae\n",
      "21      Leptodactylidae\n",
      "22      Leptodactylidae\n",
      "23      Leptodactylidae\n",
      "24      Leptodactylidae\n",
      "25      Leptodactylidae\n",
      "26      Leptodactylidae\n",
      "27      Leptodactylidae\n",
      "28      Leptodactylidae\n",
      "29      Leptodactylidae\n",
      "             ...       \n",
      "7165            Hylidae\n",
      "7166            Hylidae\n",
      "7167            Hylidae\n",
      "7168            Hylidae\n",
      "7169            Hylidae\n",
      "7170            Hylidae\n",
      "7171            Hylidae\n",
      "7172            Hylidae\n",
      "7173            Hylidae\n",
      "7174            Hylidae\n",
      "7175            Hylidae\n",
      "7176            Hylidae\n",
      "7177            Hylidae\n",
      "7178            Hylidae\n",
      "7179            Hylidae\n",
      "7180            Hylidae\n",
      "7181            Hylidae\n",
      "7182            Hylidae\n",
      "7183            Hylidae\n",
      "7184            Hylidae\n",
      "7185            Hylidae\n",
      "7186            Hylidae\n",
      "7187            Hylidae\n",
      "7188            Hylidae\n",
      "7189            Hylidae\n",
      "7190            Hylidae\n",
      "7191            Hylidae\n",
      "7192            Hylidae\n",
      "7193            Hylidae\n",
      "7194            Hylidae\n",
      "Name: Family, Length: 7195, dtype: object\n"
     ]
    }
   ],
   "source": [
    "# Now that we have the optimal clusters, n, we build our own KMeans model...\n",
    "km = KMeans(n_clusters)\n",
    "km.fit(train)\n",
    "print (km.labels_)\n",
    "print (km.cluster_centers_)\n",
    "print (y_true.iloc[:,0])"
   ]
  },
  {
   "cell_type": "markdown",
   "metadata": {},
   "source": [
    "# family"
   ]
  },
  {
   "cell_type": "code",
   "execution_count": 101,
   "metadata": {},
   "outputs": [],
   "source": [
    "d = {0: [],1: [], 2: [],3: [],4: [],5: [],6: [],7: []}"
   ]
  },
  {
   "cell_type": "code",
   "execution_count": 102,
   "metadata": {},
   "outputs": [
    {
     "name": "stdout",
     "output_type": "stream",
     "text": [
      "when label is 0:  Leptodactylidae \n",
      "{'Leptodactylidae': 2234, 'Hylidae': 56}\n",
      "when label is 1:  Dendrobatidae \n",
      "{'Dendrobatidae': 287, 'Leptodactylidae': 49, 'Hylidae': 25, 'Bufonidae': 2}\n",
      "when label is 2:  Hylidae \n",
      "{'Leptodactylidae': 6, 'Hylidae': 484, 'Bufonidae': 2}\n",
      "when label is 3:  Leptodactylidae \n",
      "{'Dendrobatidae': 245, 'Leptodactylidae': 257, 'Hylidae': 137}\n",
      "when label is 4:  Leptodactylidae \n",
      "{'Leptodactylidae': 244, 'Hylidae': 210, 'Bufonidae': 2}\n",
      "when label is 5:  Leptodactylidae \n",
      "{'Leptodactylidae': 1232, 'Hylidae': 27}\n",
      "when label is 6:  Hylidae \n",
      "{'Dendrobatidae': 10, 'Leptodactylidae': 17, 'Hylidae': 1212, 'Bufonidae': 57}\n",
      "when label is 7:  Leptodactylidae \n",
      "{'Leptodactylidae': 381, 'Hylidae': 14, 'Bufonidae': 5}\n"
     ]
    }
   ],
   "source": [
    "family = y_true.iloc[:,0].values\n",
    "label = km.labels_\n",
    "\n",
    "for i in range(8):\n",
    "    index = np.where(label==i)[0]\n",
    "    unique, counts = np.unique(family[index], return_counts=True)\n",
    "    compare = dict(zip(unique, counts))\n",
    "    print('when label is %s:  %s ' %(i,max(compare, key=compare.get)))\n",
    "    print (dict(zip(unique, counts)))\n",
    "    d[i].append(max(compare, key=compare.get))"
   ]
  },
  {
   "cell_type": "markdown",
   "metadata": {},
   "source": [
    "# genus"
   ]
  },
  {
   "cell_type": "code",
   "execution_count": 103,
   "metadata": {},
   "outputs": [
    {
     "name": "stdout",
     "output_type": "stream",
     "text": [
      "when label is 0:  Adenomera \n",
      "{'Dendropsophus': 51, 'Hypsiboas': 5, 'Adenomera': 2234}\n",
      "when label is 1:  Ameerega \n",
      "{'Scinax': 1, 'Dendropsophus': 24, 'Ameerega': 287, 'Adenomera': 49, 'Rhinella': 2}\n",
      "when label is 2:  Hypsiboas \n",
      "{'Osteocephalus': 26, 'Hypsiboas': 451, 'Rhinella': 2, 'Adenomera': 6, 'Scinax': 7}\n",
      "when label is 3:  Adenomera \n",
      "{'Scinax': 19, 'Dendropsophus': 118, 'Leptodactylus': 6, 'Ameerega': 245, 'Adenomera': 251}\n",
      "when label is 4:  Leptodactylus \n",
      "{'Osteocephalus': 67, 'Hypsiboas': 141, 'Rhinella': 2, 'Scinax': 2, 'Leptodactylus': 235, 'Adenomera': 9}\n",
      "when label is 5:  Adenomera \n",
      "{'Scinax': 1, 'Dendropsophus': 19, 'Hypsiboas': 7, 'Adenomera': 1232}\n",
      "when label is 6:  Hypsiboas \n",
      "{'Osteocephalus': 19, 'Dendropsophus': 97, 'Hypsiboas': 981, 'Rhinella': 57, 'Scinax': 115, 'Leptodactylus': 14, 'Ameerega': 10, 'Adenomera': 3}\n",
      "when label is 7:  Adenomera \n",
      "{'Osteocephalus': 2, 'Dendropsophus': 1, 'Hypsiboas': 8, 'Rhinella': 5, 'Scinax': 3, 'Leptodactylus': 15, 'Adenomera': 366}\n"
     ]
    }
   ],
   "source": [
    "genus = y_true.iloc[:,1].values\n",
    "label = km.labels_\n",
    "\n",
    "for i in range(8):\n",
    "    index = np.where(label==i)[0]\n",
    "    unique, counts = np.unique(genus[index], return_counts=True)\n",
    "    compare = dict(zip(unique, counts))\n",
    "    print('when label is %s:  %s ' %(i,max(compare, key=compare.get)))\n",
    "    print (dict(zip(unique, counts)))\n",
    "    d[i].append(max(compare, key=compare.get))"
   ]
  },
  {
   "cell_type": "markdown",
   "metadata": {},
   "source": [
    "#  species"
   ]
  },
  {
   "cell_type": "code",
   "execution_count": 104,
   "metadata": {},
   "outputs": [
    {
     "name": "stdout",
     "output_type": "stream",
     "text": [
      "when label is 0:  AdenomeraHylaedactylus \n",
      "{'AdenomeraHylaedactylus': 2234, 'HypsiboasCordobae': 5, 'HylaMinuta': 51}\n",
      "when label is 1:  Ameeregatrivittata \n",
      "{'Rhinellagranulosa': 2, 'ScinaxRuber': 1, 'HylaMinuta': 24, 'Ameeregatrivittata': 287, 'AdenomeraHylaedactylus': 4, 'AdenomeraAndre': 45}\n",
      "when label is 2:  HypsiboasCinerascens \n",
      "{'Rhinellagranulosa': 2, 'ScinaxRuber': 7, 'HypsiboasCinerascens': 441, 'OsteocephalusOophagus': 26, 'AdenomeraHylaedactylus': 3, 'HypsiboasCordobae': 10, 'AdenomeraAndre': 3}\n",
      "when label is 3:  AdenomeraAndre \n",
      "{'ScinaxRuber': 19, 'Ameeregatrivittata': 245, 'LeptodactylusFuscus': 6, 'HylaMinuta': 118, 'AdenomeraAndre': 251}\n",
      "when label is 4:  LeptodactylusFuscus \n",
      "{'Rhinellagranulosa': 2, 'LeptodactylusFuscus': 235, 'HypsiboasCinerascens': 21, 'OsteocephalusOophagus': 67, 'AdenomeraHylaedactylus': 2, 'HypsiboasCordobae': 120, 'ScinaxRuber': 2, 'AdenomeraAndre': 7}\n",
      "when label is 5:  AdenomeraHylaedactylus \n",
      "{'ScinaxRuber': 1, 'AdenomeraHylaedactylus': 1232, 'HypsiboasCordobae': 7, 'HylaMinuta': 19}\n",
      "when label is 6:  HypsiboasCordobae \n",
      "{'Rhinellagranulosa': 57, 'LeptodactylusFuscus': 14, 'HypsiboasCinerascens': 3, 'OsteocephalusOophagus': 19, 'HylaMinuta': 97, 'Ameeregatrivittata': 10, 'AdenomeraHylaedactylus': 3, 'HypsiboasCordobae': 978, 'ScinaxRuber': 115}\n",
      "when label is 7:  AdenomeraAndre \n",
      "{'Rhinellagranulosa': 5, 'LeptodactylusFuscus': 15, 'HypsiboasCinerascens': 7, 'OsteocephalusOophagus': 2, 'HylaMinuta': 1, 'HypsiboasCordobae': 1, 'ScinaxRuber': 3, 'AdenomeraAndre': 366}\n"
     ]
    }
   ],
   "source": [
    "species = y_true.iloc[:,2].values\n",
    "label = km.labels_\n",
    "\n",
    "for i in range(8):\n",
    "    index = np.where(label==i)[0]\n",
    "    unique, counts = np.unique(species[index], return_counts=True)\n",
    "    compare = dict(zip(unique, counts))\n",
    "    print('when label is %s:  %s ' %(i,max(compare, key=compare.get)))\n",
    "    print (dict(zip(unique, counts)))\n",
    "    d[i].append(max(compare, key=compare.get))"
   ]
  },
  {
   "cell_type": "code",
   "execution_count": 105,
   "metadata": {},
   "outputs": [
    {
     "name": "stdout",
     "output_type": "stream",
     "text": [
      "{0: ['Leptodactylidae', 'Adenomera', 'AdenomeraHylaedactylus'], 1: ['Dendrobatidae', 'Ameerega', 'Ameeregatrivittata'], 2: ['Hylidae', 'Hypsiboas', 'HypsiboasCinerascens'], 3: ['Leptodactylidae', 'Adenomera', 'AdenomeraAndre'], 4: ['Leptodactylidae', 'Leptodactylus', 'LeptodactylusFuscus'], 5: ['Leptodactylidae', 'Adenomera', 'AdenomeraHylaedactylus'], 6: ['Hylidae', 'Hypsiboas', 'HypsiboasCordobae'], 7: ['Leptodactylidae', 'Adenomera', 'AdenomeraAndre']}\n"
     ]
    }
   ],
   "source": [
    "print (d)"
   ]
  },
  {
   "cell_type": "markdown",
   "metadata": {},
   "source": [
    "# c : the average Hamming distance"
   ]
  },
  {
   "cell_type": "code",
   "execution_count": 115,
   "metadata": {},
   "outputs": [
    {
     "name": "stdout",
     "output_type": "stream",
     "text": [
      "[['Leptodactylidae' 'Adenomera' 'AdenomeraAndre']\n",
      " ['Leptodactylidae' 'Adenomera' 'AdenomeraAndre']\n",
      " ['Leptodactylidae' 'Adenomera' 'AdenomeraAndre']\n",
      " ...\n",
      " ['Leptodactylidae' 'Adenomera' 'AdenomeraAndre']\n",
      " ['Leptodactylidae' 'Adenomera' 'AdenomeraAndre']\n",
      " ['Leptodactylidae' 'Adenomera' 'AdenomeraAndre']]\n",
      "[['Leptodactylidae' 'Adenomera' 'AdenomeraAndre']\n",
      " ['Leptodactylidae' 'Adenomera' 'AdenomeraAndre']\n",
      " ['Leptodactylidae' 'Adenomera' 'AdenomeraAndre']\n",
      " ...\n",
      " ['Hylidae' 'Scinax' 'ScinaxRuber']\n",
      " ['Hylidae' 'Scinax' 'ScinaxRuber']\n",
      " ['Hylidae' 'Scinax' 'ScinaxRuber']]\n"
     ]
    }
   ],
   "source": [
    "#  the labels assigned by clusters.\n",
    "clusters_labels = [d[index] for index in label]\n",
    "clusters_labels = np.array(clusters_labels)\n",
    "print (clusters_labels)\n",
    "print (y_true.values)"
   ]
  },
  {
   "cell_type": "code",
   "execution_count": 2,
   "metadata": {},
   "outputs": [
    {
     "name": "stdout",
     "output_type": "stream",
     "text": [
      "total hamming distance:\n",
      "3193\n",
      "total count\n",
      "7195\n",
      "average distance\n",
      "0.44378040305767896\n"
     ]
    }
   ],
   "source": [
    "def hamming_d(y_true, y_pred):\n",
    "    count = 0 \n",
    "    for i in range(y_true.shape[0]):\n",
    "        if (y_true[i][1] != y_pred[i][1]) :\n",
    "            count+=1\n",
    "        if (y_true[i][0] != y_pred[i][0]) :\n",
    "            count+=1\n",
    "        if (y_true[i][2] != y_pred[i][2]) :    \n",
    "            count+=1\n",
    "    return count\n",
    "distance = hamming_d(y_true.values, clusters_labels)\n",
    "number = y_true.values.shape[0]\n",
    "print ('total hamming distance:')\n",
    "print (distance)\n",
    "print ('total count')\n",
    "print (number)\n",
    "print ('average distance')\n",
    "print (distance/number)"
   ]
  },
  {
   "cell_type": "markdown",
   "metadata": {},
   "source": [
    "# (d) Extra Practice:"
   ]
  },
  {
   "cell_type": "code",
   "execution_count": null,
   "metadata": {},
   "outputs": [],
   "source": []
  },
  {
   "cell_type": "code",
   "execution_count": null,
   "metadata": {},
   "outputs": [],
   "source": []
  },
  {
   "cell_type": "code",
   "execution_count": null,
   "metadata": {},
   "outputs": [],
   "source": []
  },
  {
   "cell_type": "code",
   "execution_count": null,
   "metadata": {},
   "outputs": [],
   "source": []
  }
 ],
 "metadata": {
  "kernelspec": {
   "display_name": "Python 3",
   "language": "python",
   "name": "python3"
  },
  "language_info": {
   "codemirror_mode": {
    "name": "ipython",
    "version": 3
   },
   "file_extension": ".py",
   "mimetype": "text/x-python",
   "name": "python",
   "nbconvert_exporter": "python",
   "pygments_lexer": "ipython3",
   "version": "3.5.2"
  }
 },
 "nbformat": 4,
 "nbformat_minor": 2
}
